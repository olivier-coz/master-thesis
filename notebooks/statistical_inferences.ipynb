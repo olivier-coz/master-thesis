{
 "cells": [
  {
   "cell_type": "markdown",
   "id": "5e60b535",
   "metadata": {},
   "source": [
    "## Imports"
   ]
  },
  {
   "cell_type": "code",
   "execution_count": null,
   "id": "e93c8e9d",
   "metadata": {
    "ExecuteTime": {
     "start_time": "2023-05-11T14:55:03.955755Z",
     "end_time": "2023-05-11T14:55:04.148033Z"
    }
   },
   "outputs": [],
   "source": [
    "import numpy as np\n",
    "import pandas as pd\n",
    "from pathlib import Path\n",
    "import os\n",
    "import warnings\n",
    "warnings.filterwarnings(action='once')\n",
    "data_path = str(Path(os.getcwd()).parent.absolute())+\"/data\"\n",
    "figures_path = str(Path(os.getcwd()).parent.absolute())+\"/reports/figures\""
   ]
  },
  {
   "cell_type": "markdown",
   "id": "672e1562",
   "metadata": {},
   "source": [
    "# Load Data"
   ]
  },
  {
   "cell_type": "code",
   "execution_count": null,
   "id": "b216c4a3",
   "metadata": {
    "ExecuteTime": {
     "start_time": "2023-05-11T14:55:07.978986Z",
     "end_time": "2023-05-11T14:55:08.052506Z"
    }
   },
   "outputs": [],
   "source": [
    "factors = pd.read_csv(data_path+\"/interim/factors.csv\", index_col=0).loc['2007-02-28':,:]\n",
    "portfolio_excess_returns = pd.read_csv(data_path+\"/interim/portfolio_excess_returns.csv\", index_col=0).loc['2007-02-28':'2017-10-31',:]"
   ]
  },
  {
   "cell_type": "code",
   "execution_count": null,
   "outputs": [],
   "source": [
    "green_factors = pd.read_csv(\"green_factors.csv\", index_col=0).loc['2007-02-28':'2017-10-31',:]\n",
    "green_factors = green_factors.loc[:,['ESG_ADJ', 'E_V_IND_W', 'S_V_IND_W', 'G_V_IND_W', 'CO2_V_IND_W']]"
   ],
   "metadata": {
    "collapsed": false,
    "ExecuteTime": {
     "start_time": "2023-05-11T14:55:10.191185Z",
     "end_time": "2023-05-11T14:55:10.233657Z"
    }
   }
  },
  {
   "cell_type": "markdown",
   "source": [
    "## Function\n",
    "Based on Feng, Giglio, and Xiu (2020) matlab code"
   ],
   "metadata": {
    "collapsed": false
   }
  },
  {
   "cell_type": "code",
   "execution_count": null,
   "outputs": [],
   "source": [
    "def infer(Ri, gt, ht, sel1, sel2, sel3):\n",
    "    n = Ri.shape[1]\n",
    "    p = ht.shape[1]\n",
    "    d = gt.shape[1]\n",
    "    l = gt.shape[0]\n",
    "\n",
    "    cov_h = np.cov(ht.T,Ri.T)[len(ht.columns):,:len(ht.columns)]\n",
    "    cov_g = np.cov(gt.T,Ri.T)[len(gt.columns):,:len(gt.columns)]\n",
    "    ER  = pd.DataFrame({'Average Excess Returns': Ri.mean()})\n",
    "    ones_n = np.ones((n, 1))\n",
    "    M0 = np.eye(n) - ones_n @ np.linalg.inv(ones_n.T @ ones_n) @ ones_n.T\n",
    "    select = np.unique(np.concatenate([sel1, sel2]))\n",
    "    select = [ht.columns.get_loc(c) for c in select if c in ht]\n",
    "    X = np.hstack([cov_g, cov_h[:,select]])\n",
    "    lambda_full = np.linalg.inv(np.dot(np.dot(X.T, M0), X)).dot(np.dot(np.dot(X.T, M0), ER))\n",
    "    lambdag = lambda_full[:d]\n",
    "    zthat = np.full((d, l), np.nan)\n",
    "    select3 = [ht.columns.get_loc(c) for c in sel3 if c in ht]\n",
    "    ht2=np.array(ht.T)\n",
    "    for i in range(d):\n",
    "        M_mdl = np.eye(l) - np.dot(np.dot(ht.iloc[:,select3], np.linalg.inv(np.dot(ht.iloc[:,select3].T, ht.iloc[:,select3]))), ht.iloc[:,select3].T)\n",
    "        zthat[i, :] = np.dot(M_mdl, gt.iloc[:,i])\n",
    "    Sigmazhat = np.dot(zthat,zthat.T )/ l\n",
    "    temp2 = 0\n",
    "    ii = 0\n",
    "    for row in range(0,l):\n",
    "        ii += 1\n",
    "        mt = 1 - np.dot(lambda_full.T , np.hstack( [gt.iloc[row,:].T , ht.iloc[row,select].T  ]))\n",
    "        temp2 += mt**2 * np.dot(np.dot(np.linalg.inv(Sigmazhat), zthat[:, ii-1][:, np.newaxis]), np.dot(zthat[:, ii-1][:, np.newaxis].T, np.linalg.inv(Sigmazhat)))\n",
    "\n",
    "    avar_lambdag = np.diag(temp2) / l\n",
    "    se = np.sqrt(avar_lambdag / l)\n",
    "\n",
    "    vt = np.vstack([gt.T, ht.iloc[:,select].T])\n",
    "    V_bar = vt - np.mean(vt, axis=1, keepdims=True) * np.ones((1, l))\n",
    "    var_v = np.dot(V_bar , V_bar.T) / l\n",
    "    gamma = np.diag(var_v) * lambda_full.T\n",
    "\n",
    "    tstat = (lambdag / se)[0,0]\n",
    "    lambda_bp = gamma[0,0]*10000\n",
    "\n",
    "    return [lambda_bp, tstat]"
   ],
   "metadata": {
    "collapsed": false,
    "ExecuteTime": {
     "start_time": "2023-05-11T14:38:54.678030Z",
     "end_time": "2023-05-11T14:38:54.719081Z"
    }
   }
  },
  {
   "cell_type": "markdown",
   "source": [
    "## Computing and saving the results"
   ],
   "metadata": {
    "collapsed": false
   }
  },
  {
   "cell_type": "code",
   "execution_count": null,
   "outputs": [],
   "source": [
    "Ri = portfolio_excess_returns\n",
    "ht = factors\n",
    "sel1 = list(pd.read_csv(data_path + '/processed/sel1_results.csv',index_col=0).iloc[0,1:])\n",
    "selFF = ['SMB','HML','MktRF']\n",
    "main = pd.DataFrame(columns=['TestList', 'Characterisc Name', 'lambda_ds', 'tstat_ds', 'lambda_ss', 'tstat_ss'])\n",
    "for green_characteristic in green_factors.columns:\n",
    "    gt = pd.DataFrame(data = green_factors.loc[:, green_characteristic])\n",
    "    sel2 = list(pd.read_csv(data_path + '/processed/'+green_characteristic+'_sel2_results.csv',index_col=0).iloc[0,1:])\n",
    "    sel3 = list(pd.read_csv(data_path + '/processed/'+green_characteristic+'_sel3_results.csv',index_col=0).iloc[0,1:])\n",
    "\n",
    "    print([len(ht.columns),green_characteristic] + infer(Ri, gt, ht, sel1, sel2, sel3) + infer(Ri, gt, ht, sel1, [], sel3) + infer(Ri, gt, ht, selFF, [], sel3))\n",
    "    main.loc[len(main),['TestList', 'Characterisc Name', 'lambda_ds', 'tstat_ds', 'lambda_ss', 'tstat_ss', 'lambda_FF', 'tstat_FF']] = [len(ht.columns),green_characteristic] + infer(Ri, gt, ht, sel1, sel2, sel3) + infer(Ri, gt, ht, sel1, [], sel3)  + infer(Ri, gt, ht, selFF, [], sel3)\n",
    "main.to_csv(data_path + '/processed/main.csv')\n"
   ],
   "metadata": {
    "collapsed": false,
    "ExecuteTime": {
     "start_time": "2023-05-11T14:40:52.476013Z",
     "end_time": "2023-05-11T14:40:53.464232Z"
    }
   }
  }
 ],
 "metadata": {
  "kernelspec": {
   "display_name": "data-science-env",
   "language": "python",
   "name": "python3"
  },
  "language_info": {
   "codemirror_mode": {
    "name": "ipython",
    "version": 3
   },
   "file_extension": ".py",
   "mimetype": "text/x-python",
   "name": "python",
   "nbconvert_exporter": "python",
   "pygments_lexer": "ipython3",
   "version": "3.10.9 (main, Jan 11 2023, 15:21:40) [GCC 11.2.0]"
  },
  "vscode": {
   "interpreter": {
    "hash": "456eb8b4f0119b9c65dd9f66277c44667564c5e83ce409be82b9d4536b9aba1c"
   }
  }
 },
 "nbformat": 4,
 "nbformat_minor": 5
}
