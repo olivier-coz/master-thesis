{
 "cells": [
  {
   "cell_type": "markdown",
   "id": "5e60b535",
   "metadata": {},
   "source": [
    "# Libraries"
   ]
  },
  {
   "cell_type": "code",
   "execution_count": null,
   "id": "e93c8e9d",
   "metadata": {},
   "outputs": [],
   "source": [
    "import pandas as pd\n",
    "from pathlib import Path\n",
    "import os\n",
    "data_path = str(Path(os.getcwd()).parent.absolute())+\"/data\"\n",
    "figures_path = str(Path(os.getcwd()).parent.absolute())+\"/reports/figures\""
   ]
  },
  {
   "cell_type": "markdown",
   "id": "672e1562",
   "metadata": {},
   "source": [
    "# Load Data"
   ]
  },
  {
   "cell_type": "code",
   "execution_count": null,
   "id": "b216c4a3",
   "metadata": {},
   "outputs": [],
   "source": [
    "#Import data as Pandas df\n",
    "#factor data from Feng et al. (2020) \"Taming the Factor Zoo\" from 7/30/1976 to 12/29/2017\n",
    "factors = pd.read_csv(data_path+\"/raw/factors.csv\", index_col=0)\n",
    "\n",
    "#portfolio data 3×2 bivariate-sorted portfolios\n",
    "portfolio_returns = pd.read_csv(data_path+\"/raw/port_3x2.csv\", header=None, index_col=0)"
   ]
  },
  {
   "cell_type": "code",
   "execution_count": null,
   "id": "e54418e1",
   "metadata": {},
   "outputs": [],
   "source": [
    "#Rename/Name the portfolios\n",
    "portfolio_returns = portfolio_returns.add_prefix('portfolio_')"
   ]
  },
  {
   "cell_type": "markdown",
   "id": "e12931dd",
   "metadata": {},
   "source": [
    "# Clean/prepare the data"
   ]
  },
  {
   "cell_type": "code",
   "execution_count": null,
   "id": "b77ac299",
   "metadata": {},
   "outputs": [],
   "source": [
    "if len(portfolio_returns)==len(factors):\n",
    "    factors.set_index(pd.to_datetime(factors.index,format= \"%Y%m%d\"), inplace=True)\n",
    "    portfolio_returns.set_index(factors.index, inplace=True)\n",
    "else:\n",
    "    print(\"DATE RANGE ERRORS\")"
   ]
  },
  {
   "cell_type": "code",
   "execution_count": null,
   "id": "ad8bc880",
   "metadata": {},
   "outputs": [],
   "source": [
    "print(\"Dropping \"+str(factors.isnull().sum().sum()) +\" rows containing NaN values in factors\")\n",
    "#drop rows containing NaN values in factors\n",
    "portfolio_returns.drop(factors[factors.isna().any(axis=1)].index, axis=0, inplace=True)\n",
    "factors.drop(factors[factors.isna().any(axis=1)].index, axis=0, inplace=True)\n",
    "print(\"Dropping \"+str(portfolio_returns.isnull().sum().sum()) +\" rows containing NaN values in portfolio_returns\")\n",
    "#drop rows containing NaN values in portfolio_returns\n",
    "factors.drop(portfolio_returns[portfolio_returns.isna().any(axis=1)].index, axis=0, inplace=True)\n",
    "portfolio_returns.drop(portfolio_returns[portfolio_returns.isna().any(axis=1)].index, axis=0, inplace=True)"
   ]
  },
  {
   "cell_type": "code",
   "execution_count": null,
   "id": "a463a33b",
   "metadata": {},
   "outputs": [],
   "source": [
    "#convert all monthly returns to monthly excess returns\n",
    "portfolio_excess_returns = portfolio_returns.copy(deep=True)\n",
    "for i in portfolio_excess_returns.columns:\n",
    "    portfolio_excess_returns[i] -= factors['RF']"
   ]
  },
  {
   "cell_type": "code",
   "execution_count": null,
   "id": "82ae9cbb",
   "metadata": {},
   "outputs": [],
   "source": [
    "#Drop RF from factors as we don't need it anymore\n",
    "factors.drop([\"RF\"], axis=1,inplace=True)"
   ]
  },
  {
   "cell_type": "markdown",
   "source": [
    "# Save the data"
   ],
   "metadata": {
    "collapsed": false
   }
  },
  {
   "cell_type": "code",
   "execution_count": null,
   "outputs": [],
   "source": [
    "factors.to_csv(data_path+\"/interim/factors.csv\")\n",
    "portfolio_excess_returns.to_csv(data_path+\"/interim/portfolio_excess_returns.csv\")"
   ],
   "metadata": {
    "collapsed": false
   }
  }
 ],
 "metadata": {
  "kernelspec": {
   "display_name": "data-science-env",
   "language": "python",
   "name": "python3"
  },
  "language_info": {
   "codemirror_mode": {
    "name": "ipython",
    "version": 3
   },
   "file_extension": ".py",
   "mimetype": "text/x-python",
   "name": "python",
   "nbconvert_exporter": "python",
   "pygments_lexer": "ipython3",
   "version": "3.10.9 (main, Jan 11 2023, 15:21:40) [GCC 11.2.0]"
  },
  "vscode": {
   "interpreter": {
    "hash": "456eb8b4f0119b9c65dd9f66277c44667564c5e83ce409be82b9d4536b9aba1c"
   }
  }
 },
 "nbformat": 4,
 "nbformat_minor": 5
}
