{
 "cells": [
  {
   "cell_type": "markdown",
   "source": [
    "## Imports"
   ],
   "metadata": {
    "collapsed": false
   }
  },
  {
   "cell_type": "code",
   "execution_count": null,
   "outputs": [],
   "source": [
    "import numpy as np\n",
    "import pandas as pd\n",
    "from pathlib import Path\n",
    "import os\n",
    "import warnings\n",
    "warnings.filterwarnings(action='once')\n",
    "data_path = str(Path(os.getcwd()).parent.absolute())+\"/data\"\n",
    "figures_path = str(Path(os.getcwd()).parent.absolute())+\"/reports/figures\""
   ],
   "metadata": {
    "collapsed": false
   }
  },
  {
   "cell_type": "markdown",
   "source": [
    "## Functions"
   ],
   "metadata": {
    "collapsed": false
   }
  },
  {
   "cell_type": "code",
   "execution_count": null,
   "outputs": [],
   "source": [
    "def industry_value_weighted(df, threshold, score, industries_sel, industries):\n",
    "    factor = 0\n",
    "    mkt_cap = df.loc[:,['LME']].sum()[0]\n",
    "    for industry in industries:\n",
    "        mkt_cap_industry = df.loc[df[industries_sel] == industry,['LME']].sum()[0]\n",
    "        factor += top_minus_bottom_value_weighted(df.loc[df[industries_sel] == industry], threshold, score) * mkt_cap_industry\n",
    "    return(factor / mkt_cap)"
   ],
   "metadata": {
    "collapsed": false
   }
  },
  {
   "cell_type": "code",
   "execution_count": null,
   "outputs": [],
   "source": [
    "def industry_weighted(df, threshold, score, industries_sel, industries):\n",
    "    factor = 0\n",
    "    mkt_cap = df.loc[:,['LME']].sum()[0]\n",
    "    for industry in industries:\n",
    "        mkt_cap_industry = df.loc[df[industries_sel] == industry,['LME']].sum()[0]\n",
    "        factor += top_minus_bottom(df.loc[df[industries_sel] == industry], threshold, score) * mkt_cap_industry\n",
    "    return(factor / mkt_cap)"
   ],
   "metadata": {
    "collapsed": false
   }
  },
  {
   "cell_type": "code",
   "execution_count": null,
   "outputs": [],
   "source": [
    "def top_minus_bottom_value_weighted(df, threshold, score):\n",
    "    df_with_data = df.loc[df[score].isna() == False,:]\n",
    "    threshold_value_best = df_with_data.loc[:,[score]].quantile(1-threshold, numeric_only=True)[0]\n",
    "    threshold_value_worst = df_with_data.loc[:,[score]].quantile(threshold, numeric_only=True)[0]\n",
    "    df_best = df_with_data.loc[df_with_data[score] >= threshold_value_best,['ExRet','LME',score]]\n",
    "    df_worst = df_with_data.loc[df_with_data[score] <= threshold_value_worst,['ExRet','LME',score]]\n",
    "    mkt_cap_best = df_best['LME'].sum()\n",
    "    mkt_cap_worst = df_worst['LME'].sum()\n",
    "    ExRet_best = (df_best['ExRet']*df_best['LME']).sum() / mkt_cap_best\n",
    "    ExRet_worst = (df_worst['ExRet']*df_worst['LME']).sum() / mkt_cap_worst\n",
    "    return(ExRet_best - ExRet_worst)"
   ],
   "metadata": {
    "collapsed": false,
    "ExecuteTime": {
     "start_time": "2023-04-25T11:20:13.193291Z",
     "end_time": "2023-04-25T11:20:13.236086Z"
    }
   }
  },
  {
   "cell_type": "code",
   "execution_count": null,
   "outputs": [],
   "source": [
    "def top_minus_bottom(df, threshold, score):\n",
    "    df_with_data = df.loc[df[score].isna() == False,:]\n",
    "    threshold_value_best = df_with_data.loc[:,[score]].quantile(1-threshold, numeric_only=True)[0]\n",
    "    threshold_value_worst = df_with_data.loc[:,[score]].quantile(threshold, numeric_only=True)[0]\n",
    "    df_best = df_with_data.loc[df_with_data[score] >= threshold_value_best,['ExRet','LME',score]]\n",
    "    df_worst = df_with_data.loc[df_with_data[score] <= threshold_value_worst,['ExRet','LME',score]]\n",
    "    nb_best = len(df_best)\n",
    "    nb_worst = len(df_worst)\n",
    "    ExRet_best = (df_best['ExRet']).sum() / nb_best\n",
    "    ExRet_worst = (df_worst['ExRet']).sum() / nb_worst\n",
    "    return(ExRet_best - ExRet_worst)"
   ],
   "metadata": {
    "collapsed": false
   }
  },
  {
   "cell_type": "markdown",
   "source": [
    "## Creating the portfolios"
   ],
   "metadata": {
    "collapsed": false
   }
  },
  {
   "cell_type": "code",
   "execution_count": null,
   "outputs": [],
   "source": [
    "# Reading raw data\n",
    "raw = pd.read_csv(\"STOCK_SECURITIES_no_drops.csv\")\n",
    "raw = raw.loc[:,['date','GVKEY','ExRet','LME','ff17', 'INDUSTRY_ADJUSTED_SCORE','WEIGHTED_AVERAGE_SCORE', 'ENVIRONMENTAL_PILLAR_SCORE', 'SOCIAL_PILLAR_SCORE', 'GOVERNANCE_PILLAR_SCORE', 'CARBON_EMISSIONS_SCORE']]\n",
    "raw = raw.rename(columns={'IVA_COMPANY_RATING':'RATING',\n",
    "                    'INDUSTRY_ADJUSTED_SCORE':'ESG_ADJ',\n",
    "                    'WEIGHTED_AVERAGE_SCORE':'ESG',\n",
    "                    'ENVIRONMENTAL_PILLAR_SCORE':'E',\n",
    "                    'SOCIAL_PILLAR_SCORE':'S',\n",
    "                    'GOVERNANCE_PILLAR_SCORE':'G',\n",
    "                    'CARBON_EMISSIONS_SCORE':'CO2'})\n",
    "\n",
    "df = raw.set_index(['date', 'GVKEY'])"
   ],
   "metadata": {
    "collapsed": false
   }
  },
  {
   "cell_type": "code",
   "execution_count": null,
   "outputs": [],
   "source": [
    "# Creating flags for big and small portfolio for using bivariate portfolio and following Fama-French methodology\n",
    "\n",
    "df['BIG']=False\n",
    "big = []\n",
    "for date in raw['date'].unique():\n",
    "    # are we in june ? or in the first date ?\n",
    "    if date[5:7] == '06' or len(big) == 0:\n",
    "        df_single_date = df.loc[date].sort_values(by='LME', ascending=False)\n",
    "        mkt_cap_90 = df_single_date.loc[:,['LME']].sum()[0]*0.9\n",
    "        temp = 0\n",
    "        for i,index in enumerate(df_single_date.index):\n",
    "            if temp + df_single_date.loc[index,'LME'] < mkt_cap_90:\n",
    "                temp += df_single_date.loc[index,'LME']\n",
    "            else:\n",
    "                big = df_single_date.index[0:i+1]\n",
    "                break\n",
    "    df.loc[(date,big),'BIG'] = True\n",
    "\n",
    "\n"
   ],
   "metadata": {
    "collapsed": false
   }
  },
  {
   "cell_type": "code",
   "execution_count": null,
   "outputs": [],
   "source": [
    "# Chosing the tresholds for the best and the worst, choosing which MSCI characteristics to use, and choosing the definition of industry (how many)\n",
    "threshold = 0.3\n",
    "scores = ['ESG_ADJ', 'ESG', 'E', 'S', 'G', 'CO2']\n",
    "industries_sel = 'ff17'\n",
    "industries = [1.0, 2.0, 3.0, 4.0, 5.0, 6.0, 7.0, 8.0, 9.0, 10.0, 11.0, 12.0, 13.0, 14.0, 15.0, 16.0, 17.0]"
   ],
   "metadata": {
    "collapsed": false
   }
  },
  {
   "cell_type": "code",
   "execution_count": null,
   "outputs": [],
   "source": [
    "# Following Fama-French methodology for factor creation\n",
    "factors = pd.DataFrame()\n",
    "for date in raw['date'].unique():\n",
    "    df_big = df.loc[date][df.loc[date,'BIG']]\n",
    "    df_small = df.loc[date][df.loc[date,'BIG']]\n",
    "    for score in scores:\n",
    "        enough_data = len(df.loc[date]) - df.loc[date][score].isna().sum() >=500 # more than 500 companies with data\n",
    "        if enough_data:\n",
    "            if score != 'ESG_ADJ':\n",
    "                factors.loc[date,[score+'_V_IND_W']] = .5 * (industry_value_weighted(df_big, threshold, score, industries_sel, industries)\n",
    "                                                        + industry_value_weighted(df_small, threshold, score, industries_sel, industries))\n",
    "\n",
    "            else:     # For already made industry weighted score :\n",
    "                factors.loc[date,[score]] = top_minus_bottom_value_weighted(df.loc[date], threshold, 'ESG_ADJ')\n",
    "        else :\n",
    "            if score != 'ESG_ADJ':\n",
    "                factors.loc[date,[score+'_V_IND_W']] = np.nan\n",
    "            else:\n",
    "                factors.loc[date,[score]] = np.nan\n",
    "\n",
    "\n",
    "\n"
   ],
   "metadata": {
    "collapsed": false
   }
  },
  {
   "cell_type": "code",
   "execution_count": null,
   "outputs": [],
   "source": [
    "# Saving\n",
    "factors.to_csv(\"green_factors.csv\")"
   ],
   "metadata": {
    "collapsed": false
   }
  },
  {
   "cell_type": "markdown",
   "source": [],
   "metadata": {
    "collapsed": false
   }
  }
 ],
 "metadata": {
  "kernelspec": {
   "display_name": "Python 3",
   "language": "python",
   "name": "python3"
  },
  "language_info": {
   "codemirror_mode": {
    "name": "ipython",
    "version": 2
   },
   "file_extension": ".py",
   "mimetype": "text/x-python",
   "name": "python",
   "nbconvert_exporter": "python",
   "pygments_lexer": "ipython2",
   "version": "2.7.6"
  }
 },
 "nbformat": 4,
 "nbformat_minor": 0
}
